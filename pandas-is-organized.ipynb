{
 "cells": [
  {
   "cell_type": "markdown",
   "metadata": {},
   "source": [
    "# Pandas is organized\n"
   ]
  },
  {
   "cell_type": "markdown",
   "metadata": {},
   "source": [
    "<iframe src=\"https://giphy.com/embed/11zXBCAb9soCQM\" width=\"480\" height=\"480\" style=\"\" frameBorder=\"0\" class=\"giphy-embed\" allowFullScreen></iframe><p><a href=\"https://giphy.com/gifs/gifnewstest-artists-on-tumblr-csaba-klement-11zXBCAb9soCQM\">via GIPHY</a></p>"
   ]
  },
  {
   "cell_type": "markdown",
   "metadata": {},
   "source": [
    "Pandas is another commonly used python module. It is used to help us organize and manipulate data. The pandas modules uses numpy arrays to create series and data frames, which can be thought of as a more feature rich single-dimension array and multi dimension array respectively. Lets looks at some useful features."
   ]
  },
  {
   "cell_type": "markdown",
   "metadata": {},
   "source": [
    "# Series\n",
    "\n",
    "Series can be thought of as a one dimenstional numpy array. They contain an index of the data they are filled with as well. Numpy also has indexes but they are implicetly declared as opposed to pandas being expliclty shown."
   ]
  },
  {
   "cell_type": "code",
   "execution_count": 1,
   "metadata": {},
   "outputs": [
    {
     "name": "stdout",
     "output_type": "stream",
     "text": [
      "pd_series\n",
      "0     1\n",
      "1     2\n",
      "2     4\n",
      "3     8\n",
      "4    16\n",
      "5    32\n",
      "dtype: int64\n"
     ]
    }
   ],
   "source": [
    "import numpy as np\n",
    "import pandas as pd \n",
    "\n",
    "pd_series = pd.Series([1, 2, 4, 8, 16, 32])\n",
    "print(f\"pd_series\\n{pd_series}\")\n"
   ]
  },
  {
   "cell_type": "code",
   "execution_count": 2,
   "metadata": {},
   "outputs": [
    {
     "name": "stdout",
     "output_type": "stream",
     "text": [
      "Indices: RangeIndex(start=0, stop=6, step=1)\n",
      "Values: [ 1  2  4  8 16 32]\n"
     ]
    }
   ],
   "source": [
    "# We can also grab the series indices and values\n",
    "\n",
    "print(f\"Indices: {pd_series.index}\")\n",
    "print(f\"Values: {pd_series.values}\")"
   ]
  },
  {
   "cell_type": "code",
   "execution_count": 3,
   "metadata": {},
   "outputs": [
    {
     "name": "stdout",
     "output_type": "stream",
     "text": [
      "8\n",
      "--------\n",
      "3     8\n",
      "4    16\n",
      "5    32\n",
      "dtype: int64\n"
     ]
    }
   ],
   "source": [
    "# We can also slice them like python lists\n",
    "print(pd_series[3])\n",
    "print(\"-\"*8)\n",
    "print(pd_series[3:])"
   ]
  },
  {
   "cell_type": "code",
   "execution_count": 4,
   "metadata": {},
   "outputs": [
    {
     "name": "stdout",
     "output_type": "stream",
     "text": [
      "pd_series_new_index:\n",
      "2^0     1\n",
      "2^1     2\n",
      "2^2     4\n",
      "2^3     8\n",
      "2^4    16\n",
      "2^5    32\n",
      "dtype: int64\n"
     ]
    }
   ],
   "source": [
    "# We can change their indexes too! \n",
    "\n",
    "pd_series_new_index = pd.Series([1, 2, 4, 8, 16, 32], index=[\"2^0\",\"2^1\",\"2^2\",\"2^3\",\"2^4\",\"2^5\"])\n",
    "print(f\"pd_series_new_index:\\n{pd_series_new_index}\")"
   ]
  },
  {
   "cell_type": "code",
   "execution_count": 5,
   "metadata": {},
   "outputs": [
    {
     "name": "stdout",
     "output_type": "stream",
     "text": [
      "8\n",
      "--------\n",
      "2^3     8\n",
      "2^4    16\n",
      "2^5    32\n",
      "dtype: int64\n"
     ]
    }
   ],
   "source": [
    "# We can slice by the new indices too!\n",
    "print(pd_series_new_index[\"2^3\"])\n",
    "print(\"-\"*8)\n",
    "print(pd_series_new_index[\"2^3\":])"
   ]
  },
  {
   "cell_type": "markdown",
   "metadata": {},
   "source": [
    "You may have noticed that this looks like a special kind of dictionary. Pandas thought so too so they let us store python dictionaries in pandas series"
   ]
  },
  {
   "cell_type": "code",
   "execution_count": 6,
   "metadata": {},
   "outputs": [
    {
     "name": "stdout",
     "output_type": "stream",
     "text": [
      "pd_population\n",
      "California    38332521\n",
      "Texas         26448193\n",
      "New York      19651127\n",
      "Florida       19552860\n",
      "Illinois      12882135\n",
      "dtype: int64\n"
     ]
    }
   ],
   "source": [
    "population_dict = {'California': 38332521,\n",
    "                   'Texas': 26448193,\n",
    "                   'New York': 19651127,\n",
    "                   'Florida': 19552860,\n",
    "                   'Illinois': 12882135}\n",
    "pd_population = pd.Series(population_dict)\n",
    "print(f\"pd_population\\n{pd_population}\")"
   ]
  },
  {
   "cell_type": "code",
   "execution_count": 7,
   "metadata": {},
   "outputs": [
    {
     "name": "stdout",
     "output_type": "stream",
     "text": [
      "California    38332521\n",
      "Texas         26448193\n",
      "New York      19651127\n",
      "Florida       19552860\n",
      "Illinois      12882135\n",
      "dtype: int64\n"
     ]
    }
   ],
   "source": [
    "# You can slice this too! \n",
    "\n",
    "print(pd_population['California':'Illinois'])\n"
   ]
  },
  {
   "cell_type": "markdown",
   "metadata": {},
   "source": [
    "## DataFrame Object\n",
    "\n",
    "Series are a good introduction to pandas, but we might find DataFrames to be more useful especially if we are working with a lot of different data that relates to one another. We can either make a dataframe directly or we can make one from a series. Lets try both. "
   ]
  },
  {
   "cell_type": "code",
   "execution_count": 8,
   "metadata": {},
   "outputs": [
    {
     "name": "stdout",
     "output_type": "stream",
     "text": [
      "pd_area\n",
      "California    423967\n",
      "Texas         695662\n",
      "New York      141297\n",
      "Florida       170312\n",
      "Illinois      149995\n",
      "dtype: int64\n"
     ]
    }
   ],
   "source": [
    "# Lets create another series called area \n",
    "area_dict = {'California': 423967, 'Texas': 695662, 'New York': 141297,\n",
    "             'Florida': 170312, 'Illinois': 149995}\n",
    "pd_area = pd.Series(area_dict)\n",
    "print(f\"pd_area\\n{pd_area}\")"
   ]
  },
  {
   "cell_type": "code",
   "execution_count": 9,
   "metadata": {},
   "outputs": [
    {
     "name": "stdout",
     "output_type": "stream",
     "text": [
      "            population    area\n",
      "California    38332521  423967\n",
      "Texas         26448193  695662\n",
      "New York      19651127  141297\n",
      "Florida       19552860  170312\n",
      "Illinois      12882135  149995\n"
     ]
    }
   ],
   "source": [
    "# Then we can combine our series together to create a dataframe. Since they share the same indices they fit together nicely. \n",
    "pd_states = pd.DataFrame({\"population\": pd_population, \"area\": pd_area}) # Giving each series a column name\n",
    "\n",
    "print(pd_states)\n"
   ]
  },
  {
   "cell_type": "code",
   "execution_count": 10,
   "metadata": {},
   "outputs": [
    {
     "name": "stdout",
     "output_type": "stream",
     "text": [
      "California    423967\n",
      "Texas         695662\n",
      "New York      141297\n",
      "Florida       170312\n",
      "Illinois      149995\n",
      "Name: area, dtype: int64\n",
      "California    38332521\n",
      "Texas         26448193\n",
      "New York      19651127\n",
      "Florida       19552860\n",
      "Name: population, dtype: int64\n"
     ]
    }
   ],
   "source": [
    "# Now we can access data based on the row, column, or both! \n",
    "print(pd_states[\"area\"])\n",
    "print(pd_states[\"population\"][\"California\":\"Florida\"]) # Note this may be a bit more unintuitive since we usually reference row then column"
   ]
  },
  {
   "cell_type": "code",
   "execution_count": 11,
   "metadata": {},
   "outputs": [
    {
     "name": "stdout",
     "output_type": "stream",
     "text": [
      "population    38332521\n",
      "area            423967\n",
      "Name: California, dtype: int64\n",
      "--------\n",
      "population    38332521\n",
      "area            423967\n",
      "Name: California, dtype: int64\n"
     ]
    }
   ],
   "source": [
    "#It may be a bit more intuative to use the .iloc and .loc functions\n",
    "\n",
    "# iloc is used for integer indexing, which tends to be more valuable for time stamped data \n",
    "print(pd_states.iloc[0])\n",
    "print(\"-\"*8)\n",
    "# While loc is used for the text, which is more valuable for categorized data\n",
    "print(pd_states.loc[\"California\"])\n",
    "\n"
   ]
  },
  {
   "cell_type": "markdown",
   "metadata": {},
   "source": [
    "## Manipulating Data\n",
    "\n",
    "Using Pandas there are many ways to manipulate the data that may be benifical for your specific data. Here we will go over a few manipulations. You can find the api references here: https://pandas.pydata.org/docs/reference/index.html"
   ]
  },
  {
   "cell_type": "code",
   "execution_count": 12,
   "metadata": {},
   "outputs": [
    {
     "name": "stdout",
     "output_type": "stream",
     "text": [
      "Transpose\n",
      "            California     Texas  New York   Florida  Illinois\n",
      "population    38332521  26448193  19651127  19552860  12882135\n",
      "area            423967    695662    141297    170312    149995\n",
      "\n",
      "Sort Axis 0\n",
      "            population    area\n",
      "California    38332521  423967\n",
      "Florida       19552860  170312\n",
      "Illinois      12882135  149995\n",
      "New York      19651127  141297\n",
      "Texas         26448193  695662\n",
      "\n",
      "Copy\n",
      "            population    area\n",
      "California    38332521  423967\n",
      "Texas         26448193  695662\n",
      "New York      19651127  141297\n",
      "Florida       19552860  170312\n",
      "Illinois      12882135  149995\n",
      "\n"
     ]
    }
   ],
   "source": [
    "# Transposing the data\n",
    "print(\"Transpose\")\n",
    "print(pd_states.T)\n",
    "print()\n",
    "# Sorting Indices\n",
    "print(\"Sort Axis 0\")\n",
    "print(pd_states.sort_index(axis=0))\n",
    "print()\n",
    "# Copying Dataframe\n",
    "pd_states_deep_copy = pd_states.copy(deep=True) # A deep copy seperates the copy from the original\n",
    "print(\"Copy\")\n",
    "print(pd_states_deep_copy)\n",
    "print()\n",
    "\n",
    "\n",
    "\n"
   ]
  },
  {
   "cell_type": "code",
   "execution_count": 13,
   "metadata": {},
   "outputs": [
    {
     "name": "stdout",
     "output_type": "stream",
     "text": [
      "Dropping\n",
      "              area\n",
      "California  423967\n",
      "Texas       695662\n",
      "New York    141297\n",
      "Florida     170312\n",
      "Illinois    149995\n",
      "--------\n",
      "            area\n",
      "Texas     695662\n",
      "Florida   170312\n",
      "Illinois  149995\n",
      "\n"
     ]
    }
   ],
   "source": [
    "#Dropping Index or Column\n",
    "print(\"Dropping\")\n",
    "pd_states_deep_copy = pd_states_deep_copy.drop(columns=[\"population\"])\n",
    "print(pd_states_deep_copy)\n",
    "print(\"-\" * 8)\n",
    "pd_states_deep_copy = pd_states_deep_copy.drop([\"California\", \"New York\"])\n",
    "print(pd_states_deep_copy)\n",
    "print()"
   ]
  },
  {
   "cell_type": "markdown",
   "metadata": {},
   "source": [
    "Your data may also have features or values you may want to filter out. You can filter these by using conditional statement with the .where and .mask methods."
   ]
  },
  {
   "cell_type": "code",
   "execution_count": 14,
   "metadata": {},
   "outputs": [
    {
     "name": "stdout",
     "output_type": "stream",
     "text": [
      "0    -2\n",
      "1    -1\n",
      "2     0\n",
      "3     1\n",
      "4     2\n",
      "5     3\n",
      "6     4\n",
      "7     5\n",
      "8     6\n",
      "9     7\n",
      "10    8\n",
      "11    9\n",
      "dtype: int64\n",
      "0     NaN\n",
      "1     NaN\n",
      "2     NaN\n",
      "3     1.0\n",
      "4     2.0\n",
      "5     3.0\n",
      "6     4.0\n",
      "7     5.0\n",
      "8     6.0\n",
      "9     7.0\n",
      "10    8.0\n",
      "11    9.0\n",
      "dtype: float64\n"
     ]
    }
   ],
   "source": [
    "# .where replaces values where the condition is false\n",
    "some_series = pd.Series(range(-2, 10))\n",
    "print(some_series)\n",
    "invalid_neg_series = some_series.where(some_series>0, None)\n",
    "print(invalid_neg_series)\n"
   ]
  },
  {
   "cell_type": "code",
   "execution_count": 15,
   "metadata": {},
   "outputs": [
    {
     "name": "stdout",
     "output_type": "stream",
     "text": [
      "0    -2\n",
      "1    -1\n",
      "2     0\n",
      "3     1\n",
      "4     2\n",
      "5     3\n",
      "6     4\n",
      "7     5\n",
      "8     6\n",
      "9     7\n",
      "10    8\n",
      "11    9\n",
      "dtype: int64\n",
      "0     NaN\n",
      "1     NaN\n",
      "2     0.0\n",
      "3     1.0\n",
      "4     2.0\n",
      "5     3.0\n",
      "6     4.0\n",
      "7     5.0\n",
      "8     6.0\n",
      "9     7.0\n",
      "10    8.0\n",
      "11    9.0\n",
      "dtype: float64\n"
     ]
    }
   ],
   "source": [
    "print(some_series)\n",
    "mask_invalid_neg_series = some_series.mask(some_series<0, None)\n",
    "print(mask_invalid_neg_series)"
   ]
  },
  {
   "cell_type": "markdown",
   "metadata": {},
   "source": [
    "The data you might get from the real world could have missing data, usually described as NaN, as shown above. This NaN value is equivalent to Python's None data type."
   ]
  },
  {
   "cell_type": "code",
   "execution_count": 16,
   "metadata": {},
   "outputs": [
    {
     "name": "stdout",
     "output_type": "stream",
     "text": [
      "      Weight Rabies Shot\n",
      "Cat 1   12.0         NaN\n",
      "Cat 2     11        True\n",
      "Cat 3     10        True\n",
      "Cat 4    8.0         NaN\n",
      "Cat 5      7       False\n",
      "Cat 6     10        True\n"
     ]
    }
   ],
   "source": [
    "# Lets create a dataframe that shows which cats have a rabies shot. We can pretend this data was collected over the phone and some owners did not answer so we marked them as NaN\n",
    "cat_info_data_dict = {\n",
    "    \"Cat 1\": [12, None],\n",
    "    \"Cat 2\": [11, True],\n",
    "    \"Cat 3\": [10, True],\n",
    "    \"Cat 4\": [8, None],\n",
    "    \"Cat 5\": [7, False],\n",
    "    \"Cat 6\": [10, True]\n",
    "}\n",
    "\n",
    "cat_info = pd.DataFrame.from_dict(cat_info_data_dict).T\n",
    "cat_info.columns=[\"Weight\", \"Rabies Shot\"]\n",
    "print(cat_info)\n",
    "\n"
   ]
  },
  {
   "cell_type": "code",
   "execution_count": 17,
   "metadata": {},
   "outputs": [
    {
     "name": "stdout",
     "output_type": "stream",
     "text": [
      "      Weight Rabies Shot\n",
      "Cat 2     11        True\n",
      "Cat 3     10        True\n",
      "Cat 5      7       False\n",
      "Cat 6     10        True\n"
     ]
    }
   ],
   "source": [
    "# We can actually use the .mask method from above, but this is so common that pandas has built in methods just for dealing with missing data\n",
    "dropped_na_cat_info = cat_info.dropna()\n",
    "print(dropped_na_cat_info)"
   ]
  },
  {
   "cell_type": "code",
   "execution_count": 18,
   "metadata": {},
   "outputs": [
    {
     "name": "stdout",
     "output_type": "stream",
     "text": [
      "       Weight  Rabies Shot\n",
      "Cat 1    12.0        False\n",
      "Cat 2    11.0         True\n",
      "Cat 3    10.0         True\n",
      "Cat 4     8.0        False\n",
      "Cat 5     7.0        False\n",
      "Cat 6    10.0         True\n"
     ]
    },
    {
     "name": "stderr",
     "output_type": "stream",
     "text": [
      "C:\\Users\\trent\\AppData\\Local\\Temp\\ipykernel_5176\\3774287083.py:2: FutureWarning: Downcasting object dtype arrays on .fillna, .ffill, .bfill is deprecated and will change in a future version. Call result.infer_objects(copy=False) instead. To opt-in to the future behavior, set `pd.set_option('future.no_silent_downcasting', True)`\n",
      "  filled_na_cat_info = cat_info.fillna(False)\n"
     ]
    }
   ],
   "source": [
    "# Or we can fill it with a different value (maybe here we want to see a conservative estimate of the cats with rabies shots)\n",
    "filled_na_cat_info = cat_info.fillna(False)\n",
    "print(filled_na_cat_info)"
   ]
  },
  {
   "cell_type": "code",
   "execution_count": 19,
   "metadata": {},
   "outputs": [
    {
     "name": "stdout",
     "output_type": "stream",
     "text": [
      "       Weight  Rabies Shot\n",
      "Cat 1   False         True\n",
      "Cat 2   False        False\n",
      "Cat 3   False        False\n",
      "Cat 4   False         True\n",
      "Cat 5   False        False\n",
      "Cat 6   False        False\n"
     ]
    }
   ],
   "source": [
    "# We can also mask the values\n",
    "mask_na_cat_info = cat_info.isnull()\n",
    "print(mask_na_cat_info)"
   ]
  },
  {
   "cell_type": "markdown",
   "metadata": {},
   "source": [
    "## Reading and Writing to a File\n",
    "\n",
    "You are most likely get your data through modules, or through files. Or you may want to save your results to a file. Lets explore how we might do that using pandas. \n"
   ]
  },
  {
   "cell_type": "code",
   "execution_count": 20,
   "metadata": {},
   "outputs": [
    {
     "name": "stdout",
     "output_type": "stream",
     "text": [
      "     x^2\n",
      "x       \n",
      "0      0\n",
      "1      1\n",
      "2      4\n",
      "3      9\n",
      "4     16\n",
      "5     25\n",
      "6     36\n",
      "7     49\n",
      "8     64\n",
      "9     81\n",
      "10   100\n",
      "11   121\n",
      "12   144\n",
      "13   169\n",
      "14   196\n",
      "15   225\n",
      "16   256\n",
      "17   289\n",
      "18   324\n",
      "19   361\n",
      "20   400\n",
      "21   441\n",
      "22   484\n",
      "23   529\n",
      "24   576\n",
      "25   625\n",
      "26   676\n",
      "27   729\n",
      "28   784\n",
      "29   841\n",
      "30   900\n",
      "31   961\n",
      "32  1024\n",
      "33  1089\n",
      "34  1156\n",
      "35  1225\n",
      "36  1296\n",
      "37  1369\n",
      "38  1444\n",
      "39  1521\n",
      "40  1600\n",
      "41  1681\n",
      "42  1764\n",
      "43  1849\n",
      "44  1936\n",
      "45  2025\n",
      "46  2116\n",
      "47  2209\n",
      "48  2304\n",
      "49  2401\n"
     ]
    }
   ],
   "source": [
    "# Lets try writing to a csv file\n",
    "exp_base_array = np.arange(0, 50, 1).reshape(50, 1)\n",
    "exp_transformed_array = exp_base_array ** 2\n",
    "combined_array = np.concatenate((exp_base_array, exp_transformed_array), axis=1)\n",
    "pd_exp = pd.DataFrame(combined_array)\n",
    "pd_exp.columns=[\"x\", \"x^2\"]\n",
    "pd_exp = pd_exp.set_index(\"x\") # We must set the index otherwise pandas will make an index column for us and save that index column to a file\n",
    "print(pd_exp)\n",
    "\n",
    "pd_exp.to_csv(\"pd_exp.csv\")"
   ]
  },
  {
   "cell_type": "code",
   "execution_count": 21,
   "metadata": {},
   "outputs": [
    {
     "name": "stdout",
     "output_type": "stream",
     "text": [
      "     x^2\n",
      "x       \n",
      "0      0\n",
      "1      1\n",
      "2      4\n",
      "3      9\n",
      "4     16\n",
      "5     25\n",
      "6     36\n",
      "7     49\n",
      "8     64\n",
      "9     81\n",
      "10   100\n",
      "11   121\n",
      "12   144\n",
      "13   169\n",
      "14   196\n",
      "15   225\n",
      "16   256\n",
      "17   289\n",
      "18   324\n",
      "19   361\n",
      "20   400\n",
      "21   441\n",
      "22   484\n",
      "23   529\n",
      "24   576\n",
      "25   625\n",
      "26   676\n",
      "27   729\n",
      "28   784\n",
      "29   841\n",
      "30   900\n",
      "31   961\n",
      "32  1024\n",
      "33  1089\n",
      "34  1156\n",
      "35  1225\n",
      "36  1296\n",
      "37  1369\n",
      "38  1444\n",
      "39  1521\n",
      "40  1600\n",
      "41  1681\n",
      "42  1764\n",
      "43  1849\n",
      "44  1936\n",
      "45  2025\n",
      "46  2116\n",
      "47  2209\n",
      "48  2304\n",
      "49  2401\n"
     ]
    }
   ],
   "source": [
    "# Now lets read that info back\n",
    "\n",
    "pd_read_exp = pd.read_csv(\"pd_exp.csv\", index_col=0) # We must set the index column as 0 otherwise pandas makes a new index column for us\n",
    "print(pd_read_exp)"
   ]
  },
  {
   "cell_type": "markdown",
   "metadata": {},
   "source": [
    "References: https://jakevdp.github.io/PythonDataScienceHandbook/#:~:text=3.%20Data%20Manipulation%20with%20Pandas%C2%B6\n",
    "\n",
    "Pandas Website: https://pandas.pydata.org/docs/index.html\n",
    "Pandas API: https://pandas.pydata.org/docs/reference/index.html\n",
    "\n",
    "Topics to Explore:\n",
    "- Combining Datasets\n",
    "- Aggregating and Grouping\n",
    "- Working with time series\n"
   ]
  }
 ],
 "metadata": {
  "kernelspec": {
   "display_name": "Python 3",
   "language": "python",
   "name": "python3"
  },
  "language_info": {
   "codemirror_mode": {
    "name": "ipython",
    "version": 3
   },
   "file_extension": ".py",
   "mimetype": "text/x-python",
   "name": "python",
   "nbconvert_exporter": "python",
   "pygments_lexer": "ipython3",
   "version": "3.11.9"
  },
  "orig_nbformat": 4
 },
 "nbformat": 4,
 "nbformat_minor": 2
}
