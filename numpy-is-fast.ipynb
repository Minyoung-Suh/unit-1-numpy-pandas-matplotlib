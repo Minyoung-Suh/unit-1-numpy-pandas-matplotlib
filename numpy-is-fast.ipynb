{
 "cells": [
  {
   "cell_type": "markdown",
   "metadata": {},
   "source": [
    "# Numpy is Fast"
   ]
  },
  {
   "cell_type": "markdown",
   "metadata": {},
   "source": [
    "<iframe src=\"https://giphy.com/embed/mdfPpglf2c0QxED151\" width=\"480\" height=\"269\" style=\"\" frameBorder=\"0\" class=\"giphy-embed\" allowFullScreen></iframe><p><a href=\"https://giphy.com/gifs/xbox-game-xbox-series-x-s-mdfPpglf2c0QxED151\">via GIPHY</a></p>"
   ]
  },
  {
   "cell_type": "markdown",
   "metadata": {},
   "source": [
    "Numpy is a python module that allows us to speed up the computation of list like objects (arrays). Normally with python you would need to iterate through each element in a list - one at a time - performing the operation. With a numpy array we are able to take advantage of the [CPU vectorization of the list](https://superuser.com/questions/1170062/whats-the-difference-between-a-superscalar-and-a-vector-processor) performing the operation on many elements in the array at the same time. \n",
    "\n",
    "Reference: https://jakevdp.github.io/PythonDataScienceHandbook/02.03-computation-on-arrays-ufuncs.html#:~:text=For%20many%20types,much%20faster%20execution."
   ]
  },
  {
   "cell_type": "markdown",
   "metadata": {},
   "source": [
    "\"Why is going fast important? I don't care if it takes me 1 second vs 5 seconds to perform an operation on a data set.\" \n",
    "\n",
    "A few seconds time difference on your data set may not seem like a big deal, however with the rise of \"big data\" mass amount of data is collected and is cleaned, augmented, or manipulated. Not to mention with larger data sets you may want to perform multiple operations, not just one. This can become even more important when we perform more complex computations we will discuss in the machine learning course."
   ]
  },
  {
   "cell_type": "markdown",
   "metadata": {},
   "source": [
    "## Prove it"
   ]
  },
  {
   "cell_type": "code",
   "execution_count": 1,
   "metadata": {},
   "outputs": [
    {
     "name": "stdout",
     "output_type": "stream",
     "text": [
      "some_values=[1, 2, 3, 4, 5, 6, 7, 8, 9, 10, 11, 12, 13, 14, 15, 16, 17, 18, 19, 20, 21, 22, 23, 24, 25, 26, 27, 28, 29, 30, 31, 32, 33, 34, 35, 36, 37, 38, 39, 40, 41, 42, 43, 44, 45, 46, 47, 48, 49, 50, 51, 52, 53, 54, 55, 56, 57, 58, 59, 60, 61, 62, 63, 64, 65, 66, 67, 68, 69, 70, 71, 72, 73, 74, 75, 76, 77, 78, 79, 80, 81, 82, 83, 84, 85, 86, 87, 88, 89, 90, 91, 92, 93, 94, 95, 96, 97, 98, 99, 100, 101, 102, 103, 104, 105, 106, 107, 108, 109, 110, 111, 112, 113, 114, 115, 116, 117, 118, 119, 120, 121, 122, 123, 124, 125, 126, 127, 128, 129, 130, 131, 132, 133, 134, 135, 136, 137, 138, 139, 140, 141, 142, 143, 144, 145, 146, 147, 148, 149, 150, 151, 152, 153, 154, 155, 156, 157, 158, 159, 160, 161, 162, 163, 164, 165, 166, 167, 168, 169, 170, 171, 172, 173, 174, 175, 176, 177, 178, 179, 180, 181, 182, 183, 184, 185, 186, 187, 188, 189, 190, 191, 192, 193, 194, 195, 196, 197, 198, 199, 200, 201, 202, 203, 204, 205, 206, 207, 208, 209, 210, 211, 212, 213, 214, 215, 216, 217, 218, 219, 220, 221, 222, 223, 224, 225, 226, 227, 228, 229, 230, 231, 232, 233, 234, 235, 236, 237, 238, 239, 240, 241, 242, 243, 244, 245, 246, 247, 248, 249, 250, 251, 252, 253, 254, 255, 256, 257, 258, 259, 260, 261, 262, 263, 264, 265, 266, 267, 268, 269, 270, 271, 272, 273, 274, 275, 276, 277, 278, 279, 280, 281, 282, 283, 284, 285, 286, 287, 288, 289, 290, 291, 292, 293, 294, 295, 296, 297, 298, 299, 300, 301, 302, 303, 304, 305, 306, 307, 308, 309, 310, 311, 312, 313, 314, 315, 316, 317, 318, 319, 320, 321, 322, 323, 324, 325, 326, 327, 328, 329, 330, 331, 332, 333, 334, 335, 336, 337, 338, 339, 340, 341, 342, 343, 344, 345, 346, 347, 348, 349, 350, 351, 352, 353, 354, 355, 356, 357, 358, 359, 360, 361, 362, 363, 364, 365, 366, 367, 368, 369, 370, 371, 372, 373, 374, 375, 376, 377, 378, 379, 380, 381, 382, 383, 384, 385, 386, 387, 388, 389, 390, 391, 392, 393, 394, 395, 396, 397, 398, 399, 400, 401, 402, 403, 404, 405, 406, 407, 408, 409, 410, 411, 412, 413, 414, 415, 416, 417, 418, 419, 420, 421, 422, 423, 424, 425, 426, 427, 428, 429, 430, 431, 432, 433, 434, 435, 436, 437, 438, 439, 440, 441, 442, 443, 444, 445, 446, 447, 448, 449, 450, 451, 452, 453, 454, 455, 456, 457, 458, 459, 460, 461, 462, 463, 464, 465, 466, 467, 468, 469, 470, 471, 472, 473, 474, 475, 476, 477, 478, 479, 480, 481, 482, 483, 484, 485, 486, 487, 488, 489, 490, 491, 492, 493, 494, 495, 496, 497, 498, 499, 500, 501, 502, 503, 504, 505, 506, 507, 508, 509, 510, 511, 512, 513, 514, 515, 516, 517, 518, 519, 520, 521, 522, 523, 524, 525, 526, 527, 528, 529, 530, 531, 532, 533, 534, 535, 536, 537, 538, 539, 540, 541, 542, 543, 544, 545, 546, 547, 548, 549, 550, 551, 552, 553, 554, 555, 556, 557, 558, 559, 560, 561, 562, 563, 564, 565, 566, 567, 568, 569, 570, 571, 572, 573, 574, 575, 576, 577, 578, 579, 580, 581, 582, 583, 584, 585, 586, 587, 588, 589, 590, 591, 592, 593, 594, 595, 596, 597, 598, 599, 600, 601, 602, 603, 604, 605, 606, 607, 608, 609, 610, 611, 612, 613, 614, 615, 616, 617, 618, 619, 620, 621, 622, 623, 624, 625, 626, 627, 628, 629, 630, 631, 632, 633, 634, 635, 636, 637, 638, 639, 640, 641, 642, 643, 644, 645, 646, 647, 648, 649, 650, 651, 652, 653, 654, 655, 656, 657, 658, 659, 660, 661, 662, 663, 664, 665, 666, 667, 668, 669, 670, 671, 672, 673, 674, 675, 676, 677, 678, 679, 680, 681, 682, 683, 684, 685, 686, 687, 688, 689, 690, 691, 692, 693, 694, 695, 696, 697, 698, 699, 700, 701, 702, 703, 704, 705, 706, 707, 708, 709, 710, 711, 712, 713, 714, 715, 716, 717, 718, 719, 720, 721, 722, 723, 724, 725, 726, 727, 728, 729, 730, 731, 732, 733, 734, 735, 736, 737, 738, 739, 740, 741, 742, 743, 744, 745, 746, 747, 748, 749, 750, 751, 752, 753, 754, 755, 756, 757, 758, 759, 760, 761, 762, 763, 764, 765, 766, 767, 768, 769, 770, 771, 772, 773, 774, 775, 776, 777, 778, 779, 780, 781, 782, 783, 784, 785, 786, 787, 788, 789, 790, 791, 792, 793, 794, 795, 796, 797, 798, 799, 800, 801, 802, 803, 804, 805, 806, 807, 808, 809, 810, 811, 812, 813, 814, 815, 816, 817, 818, 819, 820, 821, 822, 823, 824, 825, 826, 827, 828, 829, 830, 831, 832, 833, 834, 835, 836, 837, 838, 839, 840, 841, 842, 843, 844, 845, 846, 847, 848, 849, 850, 851, 852, 853, 854, 855, 856, 857, 858, 859, 860, 861, 862, 863, 864, 865, 866, 867, 868, 869, 870, 871, 872, 873, 874, 875, 876, 877, 878, 879, 880, 881, 882, 883, 884, 885, 886, 887, 888, 889, 890, 891, 892, 893, 894, 895, 896, 897, 898, 899, 900, 901, 902, 903, 904, 905, 906, 907, 908, 909, 910, 911, 912, 913, 914, 915, 916, 917, 918, 919, 920, 921, 922, 923, 924, 925, 926, 927, 928, 929, 930, 931, 932, 933, 934, 935, 936, 937, 938, 939, 940, 941, 942, 943, 944, 945, 946, 947, 948, 949, 950, 951, 952, 953, 954, 955, 956, 957, 958, 959, 960, 961, 962, 963, 964, 965, 966, 967, 968, 969, 970, 971, 972, 973, 974, 975, 976, 977, 978, 979, 980, 981, 982, 983, 984, 985, 986, 987, 988, 989, 990, 991, 992, 993, 994, 995, 996, 997, 998, 999, 1000]\n"
     ]
    }
   ],
   "source": [
    "some_values = list(range(1, 1001)) # list looks like [1, 2, ... 1000]\n",
    "print(f\"{some_values=}\")"
   ]
  },
  {
   "cell_type": "code",
   "execution_count": 2,
   "metadata": {},
   "outputs": [
    {
     "name": "stdout",
     "output_type": "stream",
     "text": [
      "101 μs ± 19.3 μs per loop (mean ± std. dev. of 7 runs, 10,000 loops each)\n"
     ]
    }
   ],
   "source": [
    "\n",
    "def compute_reciprocals(values):\n",
    "    output = []\n",
    "    # for each element in values, find the reciprocal\n",
    "    for i in range(len(values)):\n",
    "        output.append( 1.0 / values[i] )\n",
    "    return output\n",
    "\n",
    "%timeit compute_reciprocals(some_values)"
   ]
  },
  {
   "cell_type": "code",
   "execution_count": 3,
   "metadata": {},
   "outputs": [
    {
     "name": "stdout",
     "output_type": "stream",
     "text": [
      "some_values_reciprocals[:5]=[1.0, 0.5, 0.3333333333333333, 0.25, 0.2]\n"
     ]
    }
   ],
   "source": [
    "some_values_reciprocals = compute_reciprocals(some_values)\n",
    "print(f\"{some_values_reciprocals[:5]=}\")"
   ]
  },
  {
   "cell_type": "code",
   "execution_count": 7,
   "metadata": {},
   "outputs": [
    {
     "ename": "ModuleNotFoundError",
     "evalue": "No module named 'numpy'",
     "output_type": "error",
     "traceback": [
      "\u001b[1;31m---------------------------------------------------------------------------\u001b[0m",
      "\u001b[1;31mModuleNotFoundError\u001b[0m                       Traceback (most recent call last)",
      "Cell \u001b[1;32mIn[7], line 1\u001b[0m\n\u001b[1;32m----> 1\u001b[0m \u001b[38;5;28;01mimport\u001b[39;00m \u001b[38;5;21;01mnumpy\u001b[39;00m \u001b[38;5;28;01mas\u001b[39;00m \u001b[38;5;21;01mnp\u001b[39;00m\n\u001b[0;32m      2\u001b[0m numpy_array \u001b[38;5;241m=\u001b[39m np\u001b[38;5;241m.\u001b[39marray(some_values)\n\u001b[0;32m      4\u001b[0m get_ipython()\u001b[38;5;241m.\u001b[39mrun_line_magic(\u001b[38;5;124m'\u001b[39m\u001b[38;5;124mtimeit\u001b[39m\u001b[38;5;124m'\u001b[39m, \u001b[38;5;124m'\u001b[39m\u001b[38;5;124m1/numpy_array\u001b[39m\u001b[38;5;124m'\u001b[39m)\n",
      "\u001b[1;31mModuleNotFoundError\u001b[0m: No module named 'numpy'"
     ]
    }
   ],
   "source": [
    "import numpy as np\n",
    "numpy_array = np.array(some_values)\n",
    "\n",
    "%timeit 1/numpy_array\n"
   ]
  },
  {
   "cell_type": "code",
   "execution_count": 5,
   "metadata": {},
   "outputs": [
    {
     "name": "stdout",
     "output_type": "stream",
     "text": [
      "[1.         0.5        0.33333333 0.25       0.2       ]\n"
     ]
    }
   ],
   "source": [
    "numpy_array_reciprocals = 1/numpy_array\n",
    "print(numpy_array_reciprocals[:5]) # Verify we have the same output"
   ]
  },
  {
   "cell_type": "markdown",
   "metadata": {},
   "source": [
    "# Popular Operations\n",
    "\n",
    "Below we will discuss popular operations used in numpy, however there are too many operations to cover in our limited time. It is great practice to skim through the documentation of numpy to determine what operations you could use on your datasets. \n",
    "\n",
    "Numpy Website: https://numpy.org/doc/stable/index.html\n",
    "Numpy User Guide: https://numpy.org/doc/stable/user/index.html\n",
    "Numpy API Reference: https://numpy.org/doc/stable/reference/index.html#reference\n"
   ]
  },
  {
   "cell_type": "code",
   "execution_count": 6,
   "metadata": {},
   "outputs": [
    {
     "name": "stdout",
     "output_type": "stream",
     "text": [
      "[0.49583673 0.57001672 0.62134419 0.08479882 0.83682817]\n"
     ]
    }
   ],
   "source": [
    "# Fill an array with random numbers\n",
    "rand_arry = np.random.random(5)\n",
    "print(rand_arry)"
   ]
  },
  {
   "cell_type": "code",
   "execution_count": 7,
   "metadata": {},
   "outputs": [
    {
     "name": "stdout",
     "output_type": "stream",
     "text": [
      "[1. 1. 1. 1. 1.]\n",
      "Type <class 'numpy.float64'>\n",
      "[1 1 1 1 1]\n",
      "Type <class 'numpy.int64'>\n"
     ]
    }
   ],
   "source": [
    "# Fill an array with 1s\n",
    "ones_arry = np.ones([5])\n",
    "print(ones_arry)\n",
    "print(f\"Type {type(ones_arry[0])}\")\n",
    "\n",
    "# Change the type of elements in the array\n",
    "ones_int_arry = np.ones([5], dtype=int)\n",
    "print(ones_int_arry)\n",
    "print(f\"Type {type(ones_int_arry[0])}\")"
   ]
  },
  {
   "cell_type": "code",
   "execution_count": 8,
   "metadata": {},
   "outputs": [
    {
     "name": "stdout",
     "output_type": "stream",
     "text": [
      "range_arry=array([0, 2, 4, 6, 8])\n",
      "lin_arry=array([ 0.   ,  1.667,  3.333,  5.   ,  6.667,  8.333, 10.   ])\n"
     ]
    },
    {
     "data": {
      "text/plain": [
       "<Token var=<ContextVar name='format_options' default={'edgeitems': 3, 'threshold': 1000, 'floatmode': 'maxprec', 'precision': 8, 'suppress': False, 'linewidth': 75, 'nanstr': 'nan', 'infstr': 'inf', 'sign': '-', 'formatter': None, 'legacy': 9223372036854775807, 'override_repr': None} at 0x00000214585A9580> at 0x000002146E896940>"
      ]
     },
     "execution_count": 8,
     "metadata": {},
     "output_type": "execute_result"
    }
   ],
   "source": [
    "# Find an array with a range of numbers\n",
    "range_arry = np.arange(0, 10, 2)\n",
    "print(f\"{range_arry=}\")\n",
    "\n",
    "# For fill an array with a specific number of steps\n",
    "lin_arry = np.linspace(0, 10, 7)\n",
    "\n",
    "# Set print options to help us see only 3 decimal places\n",
    "np.set_printoptions(precision=3)\n",
    "print(f\"{lin_arry=}\")\n",
    "# Return print options to default\n",
    "np.set_printoptions(precision=8)"
   ]
  },
  {
   "cell_type": "code",
   "execution_count": 9,
   "metadata": {},
   "outputs": [
    {
     "name": "stdout",
     "output_type": "stream",
     "text": [
      "ones_arry=array([1., 1., 1., 1., 1.])\n",
      "range_arry=array([0, 2, 4, 6, 8])\n",
      "Add: [1. 3. 5. 7. 9.]\n",
      "Subtract: [ 1. -1. -3. -5. -7.]\n",
      "Multiply: [0. 2. 4. 6. 8.]\n",
      "Divide: [       inf 0.5        0.25       0.16666667 0.125     ]\n"
     ]
    },
    {
     "name": "stderr",
     "output_type": "stream",
     "text": [
      "C:\\Users\\trent\\AppData\\Local\\Temp\\ipykernel_15428\\4287710195.py:8: RuntimeWarning: divide by zero encountered in divide\n",
      "  div_arry = ones_arry / range_arry\n"
     ]
    }
   ],
   "source": [
    "# Operations\n",
    "print(f\"{ones_arry=}\")\n",
    "print(f\"{range_arry=}\")\n",
    "\n",
    "add_arry = ones_arry + range_arry\n",
    "sub_array = ones_arry - range_arry\n",
    "mul_arry = ones_arry * range_arry\n",
    "div_arry = ones_arry / range_arry\n",
    "\n",
    "print(\"Add:\", add_arry)\n",
    "print(\"Subtract:\", sub_array)\n",
    "print(\"Multiply:\", mul_arry)\n",
    "print(\"Divide:\", div_arry)\n"
   ]
  },
  {
   "cell_type": "markdown",
   "metadata": {},
   "source": [
    "# Multi-dimensional arrays\n",
    "Also known as a matrix... actually these are all technically matrices. "
   ]
  },
  {
   "cell_type": "code",
   "execution_count": 10,
   "metadata": {},
   "outputs": [
    {
     "name": "stdout",
     "output_type": "stream",
     "text": [
      "multidim_array\n",
      " [[[0 1 2]\n",
      "  [3 4 5]\n",
      "  [6 7 8]]]\n",
      "multidim_array.size=9\n",
      "multidim_array.shape=(1, 3, 3)\n"
     ]
    }
   ],
   "source": [
    "multidim_list = [\n",
    "    [0, 1, 2],\n",
    "    [3, 4, 5], \n",
    "    [6, 7, 8]\n",
    "]\n",
    "multidim_array = np.array([multidim_list])\n",
    "print(f\"multidim_array\\n {multidim_array}\")\n",
    "\n",
    "# We can check the size and shape too\n",
    "\n",
    "print(f\"{multidim_array.size=}\")\n",
    "print(f\"{multidim_array.shape=}\")\n"
   ]
  },
  {
   "cell_type": "code",
   "execution_count": 11,
   "metadata": {},
   "outputs": [
    {
     "name": "stdout",
     "output_type": "stream",
     "text": [
      "Adding: \n",
      "[[[ 4  5  6]\n",
      "  [ 7  8  9]\n",
      "  [10 11 12]]]\n",
      "Subtracting: \n",
      "[[[-4 -3 -2]\n",
      "  [-1  0  1]\n",
      "  [ 2  3  4]]]\n",
      "Multiplying: \n",
      "[[[ 0  4  8]\n",
      "  [12 16 20]\n",
      "  [24 28 32]]]\n",
      "Dividing: \n",
      "[[[0.   0.25 0.5 ]\n",
      "  [0.75 1.   1.25]\n",
      "  [1.5  1.75 2.  ]]]\n"
     ]
    }
   ],
   "source": [
    "# We can also perform operations, these are scalar operations\n",
    "print(f\"Adding: \\n{multidim_array + 4}\")\n",
    "print(f\"Subtracting: \\n{multidim_array - 4}\")\n",
    "print(f\"Multiplying: \\n{multidim_array * 4}\")\n",
    "print(f\"Dividing: \\n{multidim_array / 4}\")"
   ]
  },
  {
   "cell_type": "code",
   "execution_count": 12,
   "metadata": {},
   "outputs": [
    {
     "name": "stdout",
     "output_type": "stream",
     "text": [
      "Multiply as if scalar:\n",
      " [[[ 0  1  4]\n",
      "  [ 9 16 25]\n",
      "  [36 49 64]]] \n",
      "Multiply as if scalar:\n",
      " [[[ 0  1  4]\n",
      "  [ 9 16 25]\n",
      "  [36 49 64]]]\n",
      "Matrix Multiplication:\n",
      " [[[ 15  18  21]\n",
      "  [ 42  54  66]\n",
      "  [ 69  90 111]]]\n",
      "Cross Product:\n",
      " [[[0 0 0]\n",
      "  [0 0 0]\n",
      "  [0 0 0]]]\n"
     ]
    }
   ],
   "source": [
    "# And we can do operations between matrices too\n",
    "print(f\"Multiply as if scalar:\\n {multidim_array * multidim_array} \")\n",
    "\n",
    "# Sometimes we need special operations, which we can get from numpy\n",
    "print(f\"Multiply as if scalar:\\n {np.multiply(multidim_array, multidim_array)}\")\n",
    "print(f\"Matrix Multiplication:\\n {np.matmul(multidim_array, multidim_array)}\")\n",
    "print(f\"Cross Product:\\n {np.cross(multidim_array, multidim_array)}\") # Parallel\n",
    "\n"
   ]
  },
  {
   "cell_type": "code",
   "execution_count": 13,
   "metadata": {},
   "outputs": [
    {
     "name": "stdout",
     "output_type": "stream",
     "text": [
      "multidim_array.shape=(1, 3, 3)\n",
      "[[0 1 2]\n",
      " [3 4 5]\n",
      " [6 7 8]]\n",
      "multidim_array[0].shape=(3, 3)\n",
      "Row Index 1: [3 4 5]\n",
      "Column Index 2: [2 5 8]\n"
     ]
    }
   ],
   "source": [
    "# Sometimes we want to access the array\n",
    "print(f\"{multidim_array.shape=}\")\n",
    "print(f\"{multidim_array[0]}\")\n",
    "print(f\"{multidim_array[0].shape=}\")\n",
    "\n",
    "# Grab the index 1 row of the matrix\n",
    "print(f\"Row Index 1: {multidim_array[0][1]}\") # In our array, grab the index row\n",
    "\n",
    "# Or grab a column\n",
    "print(f\"Column Index 2: {multidim_array[0][:, 2]}\") # In our array, for each row, grab the second index column value"
   ]
  },
  {
   "cell_type": "code",
   "execution_count": 16,
   "metadata": {},
   "outputs": [
    {
     "name": "stdout",
     "output_type": "stream",
     "text": [
      "[[     0      0]\n",
      " [     1      1]\n",
      " [     2      8]\n",
      " [     3     27]\n",
      " [     4     64]\n",
      " [     5    125]\n",
      " [     6    216]\n",
      " [     7    343]\n",
      " [     8    512]\n",
      " [     9    729]\n",
      " [    10   1000]\n",
      " [    11   1331]\n",
      " [    12   1728]\n",
      " [    13   2197]\n",
      " [    14   2744]\n",
      " [    15   3375]\n",
      " [    16   4096]\n",
      " [    17   4913]\n",
      " [    18   5832]\n",
      " [    19   6859]\n",
      " [    20   8000]\n",
      " [    21   9261]\n",
      " [    22  10648]\n",
      " [    23  12167]\n",
      " [    24  13824]\n",
      " [    25  15625]\n",
      " [    26  17576]\n",
      " [    27  19683]\n",
      " [    28  21952]\n",
      " [    29  24389]\n",
      " [    30  27000]\n",
      " [    31  29791]\n",
      " [    32  32768]\n",
      " [    33  35937]\n",
      " [    34  39304]\n",
      " [    35  42875]\n",
      " [    36  46656]\n",
      " [    37  50653]\n",
      " [    38  54872]\n",
      " [    39  59319]\n",
      " [    40  64000]\n",
      " [    41  68921]\n",
      " [    42  74088]\n",
      " [    43  79507]\n",
      " [    44  85184]\n",
      " [    45  91125]\n",
      " [    46  97336]\n",
      " [    47 103823]\n",
      " [    48 110592]\n",
      " [    49 117649]]\n"
     ]
    }
   ],
   "source": [
    " # Write to a file\n",
    "\n",
    "exp_base_array = np.arange(0, 50, 1).reshape(50, 1)\n",
    "exp_transformed_array = exp_base_array ** 3\n",
    "combined_array = np.concatenate((exp_base_array, exp_transformed_array), axis=1)\n",
    "np.savetxt(\"np_exp.csv\", combined_array, delimiter=',', fmt=\"%.f\") # seperate each row by a comma, and format the float where there are no decimal places\n",
    "print(combined_array)\n"
   ]
  },
  {
   "cell_type": "code",
   "execution_count": 15,
   "metadata": {},
   "outputs": [
    {
     "name": "stdout",
     "output_type": "stream",
     "text": [
      "[[     0      0]\n",
      " [     1      1]\n",
      " [     2      8]\n",
      " [     3     27]\n",
      " [     4     64]\n",
      " [     5    125]\n",
      " [     6    216]\n",
      " [     7    343]\n",
      " [     8    512]\n",
      " [     9    729]\n",
      " [    10   1000]\n",
      " [    11   1331]\n",
      " [    12   1728]\n",
      " [    13   2197]\n",
      " [    14   2744]\n",
      " [    15   3375]\n",
      " [    16   4096]\n",
      " [    17   4913]\n",
      " [    18   5832]\n",
      " [    19   6859]\n",
      " [    20   8000]\n",
      " [    21   9261]\n",
      " [    22  10648]\n",
      " [    23  12167]\n",
      " [    24  13824]\n",
      " [    25  15625]\n",
      " [    26  17576]\n",
      " [    27  19683]\n",
      " [    28  21952]\n",
      " [    29  24389]\n",
      " [    30  27000]\n",
      " [    31  29791]\n",
      " [    32  32768]\n",
      " [    33  35937]\n",
      " [    34  39304]\n",
      " [    35  42875]\n",
      " [    36  46656]\n",
      " [    37  50653]\n",
      " [    38  54872]\n",
      " [    39  59319]\n",
      " [    40  64000]\n",
      " [    41  68921]\n",
      " [    42  74088]\n",
      " [    43  79507]\n",
      " [    44  85184]\n",
      " [    45  91125]\n",
      " [    46  97336]\n",
      " [    47 103823]\n",
      " [    48 110592]\n",
      " [    49 117649]]\n"
     ]
    }
   ],
   "source": [
    "# read from a file\n",
    "\n",
    "read_data = np.loadtxt(\"np_exp.csv\", delimiter=',', dtype=np.uint32)\n",
    "print(read_data)"
   ]
  },
  {
   "cell_type": "markdown",
   "metadata": {},
   "source": [
    "References: https://jakevdp.github.io/PythonDataScienceHandbook/02.03-computation-on-arrays-ufuncs.html\n",
    "\n",
    "Numpy Website: https://numpy.org/doc/stable/index.html\n",
    "\n",
    "Numpy API: https://numpy.org/doc/stable/reference/index.html\n",
    "\n",
    "Topics to explore: \n",
    "- Masking Numpy Arrays\n",
    "- Broadcasting Arrays\n",
    "- Structured Arrays"
   ]
  }
 ],
 "metadata": {
  "kernelspec": {
   "display_name": "Python 3",
   "language": "python",
   "name": "python3"
  },
  "language_info": {
   "codemirror_mode": {
    "name": "ipython",
    "version": 3
   },
   "file_extension": ".py",
   "mimetype": "text/x-python",
   "name": "python",
   "nbconvert_exporter": "python",
   "pygments_lexer": "ipython3",
   "version": "3.10.1"
  },
  "orig_nbformat": 4
 },
 "nbformat": 4,
 "nbformat_minor": 2
}
